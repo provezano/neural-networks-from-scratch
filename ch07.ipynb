{
 "cells": [
  {
   "cell_type": "markdown",
   "id": "6b59a3da-3362-437e-ab43-8fc8ddcee57e",
   "metadata": {
    "tags": []
   },
   "source": [
    "## Neural Networks from Scratch\n",
    "### Chapter 7"
   ]
  },
  {
   "cell_type": "code",
   "execution_count": 1,
   "id": "ba1d9931",
   "metadata": {},
   "outputs": [],
   "source": [
    "from IPython.display import Image, display\n",
    "from IPython.core.display import HTML "
   ]
  },
  {
   "cell_type": "code",
   "execution_count": null,
   "id": "464630c3-a96a-4b3c-bb65-71aa4123a228",
   "metadata": {},
   "outputs": [],
   "source": []
  },
  {
   "cell_type": "code",
   "execution_count": null,
   "id": "b1db8820",
   "metadata": {},
   "outputs": [],
   "source": []
  }
 ],
 "metadata": {
  "kernelspec": {
   "display_name": "Python 3 (ipykernel)",
   "language": "python",
   "name": "python3"
  },
  "language_info": {
   "codemirror_mode": {
    "name": "ipython",
    "version": 3
   },
   "file_extension": ".py",
   "mimetype": "text/x-python",
   "name": "python",
   "nbconvert_exporter": "python",
   "pygments_lexer": "ipython3",
   "version": "3.8.5"
  }
 },
 "nbformat": 4,
 "nbformat_minor": 5
}
