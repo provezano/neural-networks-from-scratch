{
 "cells": [
  {
   "cell_type": "markdown",
   "id": "6b59a3da-3362-437e-ab43-8fc8ddcee57e",
   "metadata": {},
   "source": [
    "## Neural Networks from Scratch\n",
    "### Chapter 4"
   ]
  },
  {
   "cell_type": "code",
   "execution_count": 1,
   "id": "ba1d9931",
   "metadata": {},
   "outputs": [],
   "source": [
    "from IPython.display import Image, display\n",
    "from IPython.core.display import HTML "
   ]
  },
  {
   "cell_type": "markdown",
   "id": "af0cc1e1-5a2c-41fa-8591-38cd29b687bc",
   "metadata": {},
   "source": [
    "### 4.1 ReLU Activation Function"
   ]
  },
  {
   "cell_type": "markdown",
   "id": "5b6d1ecb",
   "metadata": {},
   "source": [
    "<img src=\"https://assets-global.website-files.com/5d7b77b063a9066d83e1209c/60be1b236a3731df9b1d43c9_math-20210607%20(11).png\" width=\"300\" height=\"200\" align=\"center\">"
   ]
  },
  {
   "cell_type": "markdown",
   "id": "9e2f8abb",
   "metadata": {},
   "source": [
    "#### Implementation 1"
   ]
  },
  {
   "cell_type": "code",
   "execution_count": 2,
   "id": "ab449cd6-8fb7-4ac0-a429-427d2c649a48",
   "metadata": {},
   "outputs": [
    {
     "name": "stdout",
     "output_type": "stream",
     "text": [
      "[0, 2, 0, 3.3, 0, 1.1, 2.2, 0]\n"
     ]
    }
   ],
   "source": [
    "inputs = [0, 2, -1, 3.3, -2.7, 1.1, 2.2, -100]\n",
    "output = []\n",
    "\n",
    "for i in inputs:\n",
    "    output.append(i) if i > 0 else output.append(0)\n",
    "\n",
    "print(output)"
   ]
  },
  {
   "cell_type": "markdown",
   "id": "5a3c4a08",
   "metadata": {},
   "source": [
    "#### Implementation 2"
   ]
  },
  {
   "cell_type": "code",
   "execution_count": 3,
   "id": "351bcd3d",
   "metadata": {},
   "outputs": [
    {
     "name": "stdout",
     "output_type": "stream",
     "text": [
      "[0, 2, 0, 3.3, 0, 1.1, 2.2, 0]\n"
     ]
    }
   ],
   "source": [
    "inputs = [0, 2, -1, 3.3, -2.7, 1.1, 2.2, -100]\n",
    "output = []\n",
    "\n",
    "for i in inputs:\n",
    "    output.append(max(0, i))\n",
    "    \n",
    "print(output)"
   ]
  },
  {
   "cell_type": "markdown",
   "id": "c4c4a933-58da-4fc2-8c88-13a36507a342",
   "metadata": {},
   "source": [
    "#### Implementation 3"
   ]
  },
  {
   "cell_type": "code",
   "execution_count": 4,
   "id": "5899e6d7-2d4f-49d6-80c5-bec484c63ac6",
   "metadata": {},
   "outputs": [
    {
     "name": "stdout",
     "output_type": "stream",
     "text": [
      "[0.  2.  0.  3.3 0.  1.1 2.2 0. ]\n"
     ]
    }
   ],
   "source": [
    "import numpy as np\n",
    "\n",
    "inputs = [0, 2, -1, 3.3, -2.7, 1.1, 2.2, -100]\n",
    "output = np.maximum(0, inputs)\n",
    "\n",
    "print(output)"
   ]
  },
  {
   "cell_type": "markdown",
   "id": "a982ac8b",
   "metadata": {},
   "source": [
    "### 4.2 Class ReLU + DenseLayerClass"
   ]
  },
  {
   "cell_type": "code",
   "execution_count": 5,
   "id": "806eacdc",
   "metadata": {},
   "outputs": [],
   "source": [
    "import numpy as np"
   ]
  },
  {
   "cell_type": "code",
   "execution_count": 6,
   "id": "f074cf4f",
   "metadata": {},
   "outputs": [],
   "source": [
    "class ActivationReLU:\n",
    "    def forward(self, inputs):\n",
    "        self.output = np.maximum(0, inputs)"
   ]
  },
  {
   "cell_type": "code",
   "execution_count": 7,
   "id": "ba20ef3a",
   "metadata": {},
   "outputs": [],
   "source": [
    "class LayerDense:\n",
    "    def __init__(self, n_inputs, n_neurons):\n",
    "        self.weights = 0.01 * np.random.randn(n_inputs, n_neurons)\n",
    "        self.biases = np.zeros((1, n_neurons))\n",
    "    \n",
    "    def forward(self, inputs):\n",
    "        self.output = np.dot(np.array(inputs), self.weights) + self.biases"
   ]
  },
  {
   "cell_type": "code",
   "execution_count": 8,
   "id": "70c74167",
   "metadata": {},
   "outputs": [],
   "source": [
    "from nnfs.datasets import spiral_data\n",
    "\n",
    "X, y = spiral_data(samples=100, classes=3)\n",
    "\n",
    "dense1 = LayerDense(2, 3) # Create Dense Layer Network with 2 inputs and 3 outputs\n",
    "\n",
    "activation1 = ActivationReLU() # Create the ReLU Object\n",
    "\n",
    "dense1.forward(X) # Apply forward pass\n",
    "\n",
    "activation1.forward(dense1.output) # Apply the ReLU func"
   ]
  },
  {
   "cell_type": "code",
   "execution_count": 9,
   "id": "7e24a5a9",
   "metadata": {},
   "outputs": [
    {
     "name": "stdout",
     "output_type": "stream",
     "text": [
      "[[0.00000000e+00 0.00000000e+00 0.00000000e+00]\n",
      " [0.00000000e+00 1.17485058e-04 4.27698114e-05]\n",
      " [0.00000000e+00 2.19584305e-04 1.13841189e-05]\n",
      " [0.00000000e+00 3.21584118e-04 0.00000000e+00]\n",
      " [2.35476097e-04 3.27625262e-04 0.00000000e+00]]\n"
     ]
    }
   ],
   "source": [
    "print(activation1.output[:5])"
   ]
  },
  {
   "cell_type": "markdown",
   "id": "02363a0d-f407-484b-9728-f949f723a7af",
   "metadata": {},
   "source": [
    "### 4.3 Softmax Activation Function"
   ]
  },
  {
   "cell_type": "markdown",
   "id": "0505023c",
   "metadata": {},
   "source": [
    "<img src=\"https://lh6.googleusercontent.com/3vcfJ5hJhsMZAMFIbQOEycfVW1t6rh1CXt62DeMk8RPPXVzV4vCcURNm_z_F7618uAeSHT7qT7wE_UiK5Ic0b-Eeuunn6iTGeHWbpAaUAP6-G2ePubeGWCb4_TmSapeaimZqvuUs\" width=\"300\" height=\"200\" align=\"center\">"
   ]
  },
  {
   "cell_type": "code",
   "execution_count": 10,
   "id": "ae4776b9-7492-46ed-8bc2-6e461a3c9a13",
   "metadata": {},
   "outputs": [
    {
     "data": {
      "text/plain": [
       "([121.51041751873485, 3.3534846525490236, 10.859062664920515],\n",
       " array([0.89528266, 0.02470831, 0.08000903]))"
      ]
     },
     "execution_count": 10,
     "metadata": {},
     "output_type": "execute_result"
    }
   ],
   "source": [
    "layer_outputs = [4.8, 1.21, 2.385]\n",
    "\n",
    "exp_values = []\n",
    "for value in layer_outputs:\n",
    "    exp_values.append(np.exp(value))\n",
    "\n",
    "exp_values, exp_values/sum(exp_values)"
   ]
  },
  {
   "cell_type": "markdown",
   "id": "1b145ce8",
   "metadata": {},
   "source": [
    "#### Vectorized"
   ]
  },
  {
   "cell_type": "code",
   "execution_count": 11,
   "id": "96a0c0ca",
   "metadata": {},
   "outputs": [
    {
     "data": {
      "text/plain": [
       "array([0.89528266, 0.02470831, 0.08000903])"
      ]
     },
     "execution_count": 11,
     "metadata": {},
     "output_type": "execute_result"
    }
   ],
   "source": [
    "layer_outputs = [4.8, 1.21, 2.385]\n",
    "np.exp(layer_outputs)/np.sum(np.exp(layer_outputs))"
   ]
  },
  {
   "cell_type": "code",
   "execution_count": 12,
   "id": "dfc9900f",
   "metadata": {},
   "outputs": [
    {
     "data": {
      "text/plain": [
       "array([[8.95282664e-01, 2.47083068e-02, 8.00090293e-02],\n",
       "       [9.99811129e-01, 2.23163963e-05, 1.66554348e-04],\n",
       "       [5.13097164e-01, 3.58333899e-01, 1.28568936e-01]])"
      ]
     },
     "execution_count": 12,
     "metadata": {},
     "output_type": "execute_result"
    }
   ],
   "source": [
    "layer_outputs = np.array([[4.8, 1.21, 2.385], [8.9, -1.81, 0.2], [1.41, 1.051, 0.026]])\n",
    "np.exp(layer_outputs)/np.sum(np.exp(layer_outputs), axis=1, keepdims=True)"
   ]
  },
  {
   "cell_type": "code",
   "execution_count": 23,
   "id": "9aeb17f1",
   "metadata": {},
   "outputs": [
    {
     "data": {
      "text/plain": [
       "array([[8.95282664e-01, 2.47083068e-02, 8.00090293e-02],\n",
       "       [9.99811129e-01, 2.23163963e-05, 1.66554348e-04],\n",
       "       [5.13097164e-01, 3.58333899e-01, 1.28568936e-01]])"
      ]
     },
     "execution_count": 23,
     "metadata": {},
     "output_type": "execute_result"
    }
   ],
   "source": [
    "layer_outputs = np.array([[4.8, 1.21, 2.385], [8.9, -1.81, 0.2], [1.41, 1.051, 0.026]])\n",
    "exp_values = np.exp(layer_outputs - np.max(layer_outputs, axis=1, keepdims=True))\n",
    "exp_values/np.sum(exp_values, axis=1, keepdims=True)"
   ]
  },
  {
   "cell_type": "markdown",
   "id": "ca9208db",
   "metadata": {},
   "source": [
    "#### 4.3.1 Class Softmax"
   ]
  },
  {
   "cell_type": "code",
   "execution_count": 20,
   "id": "b92c24fe",
   "metadata": {},
   "outputs": [],
   "source": [
    "class ActivationSoftmax:\n",
    "    def forward(self, inputs):\n",
    "        exp_values = np.exp(inputs - np.max(inputs, axis=1, keepdims=True))\n",
    "        self.output = exp_values/np.sum(exp_values, axis=1, keepdims=True)"
   ]
  },
  {
   "cell_type": "code",
   "execution_count": 25,
   "id": "35abce20",
   "metadata": {},
   "outputs": [
    {
     "name": "stdout",
     "output_type": "stream",
     "text": [
      "[[0.09003057 0.24472847 0.66524096]]\n",
      "[[0.09003057 0.24472847 0.66524096]]\n",
      "[[0.09003057 0.24472847 0.66524096]]\n"
     ]
    }
   ],
   "source": [
    "softmax = ActivationSoftmax()\n",
    "\n",
    "softmax.forward([[1, 2, 3]])\n",
    "print(softmax.output)\n",
    "\n",
    "softmax.forward([[-2, -1, 0]])  #-2\n",
    "print(softmax.output)\n",
    "\n",
    "softmax.forward([[-4, -3, -2]]) #-5 \n",
    "print(softmax.output)"
   ]
  }
 ],
 "metadata": {
  "kernelspec": {
   "display_name": "Python 3 (ipykernel)",
   "language": "python",
   "name": "python3"
  },
  "language_info": {
   "codemirror_mode": {
    "name": "ipython",
    "version": 3
   },
   "file_extension": ".py",
   "mimetype": "text/x-python",
   "name": "python",
   "nbconvert_exporter": "python",
   "pygments_lexer": "ipython3",
   "version": "3.8.5"
  }
 },
 "nbformat": 4,
 "nbformat_minor": 5
}
