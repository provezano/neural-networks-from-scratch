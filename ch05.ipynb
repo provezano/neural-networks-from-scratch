{
 "cells": [
  {
   "cell_type": "markdown",
   "id": "6b59a3da-3362-437e-ab43-8fc8ddcee57e",
   "metadata": {},
   "source": [
    "## Neural Networks from Scratch\n",
    "### Chapter 5"
   ]
  },
  {
   "cell_type": "code",
   "execution_count": 1,
   "id": "ba1d9931",
   "metadata": {},
   "outputs": [],
   "source": [
    "from IPython.display import Image, display\n",
    "from IPython.core.display import HTML "
   ]
  },
  {
   "cell_type": "markdown",
   "id": "af0cc1e1-5a2c-41fa-8591-38cd29b687bc",
   "metadata": {},
   "source": [
    "### 5.1 Cross-Entropy Loss"
   ]
  },
  {
   "cell_type": "markdown",
   "id": "5b6d1ecb",
   "metadata": {},
   "source": [
    "<img src=\"https://i.stack.imgur.com/gNip2.png\" width=\"400\" height=\"200\" align=\"center\">"
   ]
  },
  {
   "cell_type": "markdown",
   "id": "9e2f8abb",
   "metadata": {},
   "source": [
    "#### Implementation 1"
   ]
  },
  {
   "cell_type": "code",
   "execution_count": 16,
   "id": "ab449cd6-8fb7-4ac0-a429-427d2c649a48",
   "metadata": {},
   "outputs": [
    {
     "data": {
      "text/plain": [
       "(0.35667494393873245, 0.35667494393873245)"
      ]
     },
     "execution_count": 16,
     "metadata": {},
     "output_type": "execute_result"
    }
   ],
   "source": [
    "from math import log\n",
    "\n",
    "\n",
    "softmax_output = [0.7, 0.1, 0.2]\n",
    "target_output = [1, 0, 0]\n",
    "\n",
    "-(target_output[0]*log(softmax_output[0]) + target_output[1]*log(softmax_output[1]) + target_output[2]*log(softmax_output[2])), -np.dot(target_output, np.log(softmax_output))"
   ]
  },
  {
   "cell_type": "code",
   "execution_count": 66,
   "id": "351bcd3d",
   "metadata": {},
   "outputs": [
    {
     "data": {
      "text/plain": [
       "array([6.2146081 , 0.7985077 , 3.44201938])"
      ]
     },
     "execution_count": 66,
     "metadata": {},
     "output_type": "execute_result"
    }
   ],
   "source": [
    "import numpy as np\n",
    "\n",
    "softmax_outputs = np.array([[0.7, 0.1, 0.2], [0.1, 0.5, 0.4], [0.02, 0.9, 0.08]])\n",
    "class_targets = np.array([0, 1, 1])\n",
    "\n",
    "-np.dot(class_targets, np.log(softmax_outputs))"
   ]
  },
  {
   "cell_type": "code",
   "execution_count": 35,
   "id": "adc8b929-4bf1-4f54-8230-11339ca33575",
   "metadata": {},
   "outputs": [
    {
     "name": "stdout",
     "output_type": "stream",
     "text": [
      "0.7\n",
      "0.5\n",
      "0.9\n"
     ]
    }
   ],
   "source": [
    "for targ_idx, distribution in zip(class_targets, softmax_outputs):\n",
    "    print(distribution[targ_idx])"
   ]
  },
  {
   "cell_type": "code",
   "execution_count": 36,
   "id": "98fb4dea-f99d-4998-9749-a3529e7261ea",
   "metadata": {},
   "outputs": [
    {
     "name": "stdout",
     "output_type": "stream",
     "text": [
      "[0.7 0.5 0.9]\n"
     ]
    }
   ],
   "source": [
    "print(softmax_outputs[[0, 1, 2], class_targets])"
   ]
  },
  {
   "cell_type": "code",
   "execution_count": 37,
   "id": "6ab9b27e-2472-40a6-a15e-c1162176f599",
   "metadata": {},
   "outputs": [
    {
     "name": "stdout",
     "output_type": "stream",
     "text": [
      "[0.7 0.5 0.9]\n"
     ]
    }
   ],
   "source": [
    "print(softmax_outputs[\n",
    "range(len(softmax_outputs)), class_targets\n",
    "])"
   ]
  },
  {
   "cell_type": "code",
   "execution_count": 38,
   "id": "137d21f3-c07b-4e48-bf9b-c01d1d221f4a",
   "metadata": {},
   "outputs": [
    {
     "name": "stdout",
     "output_type": "stream",
     "text": [
      "[0.35667494 0.69314718 0.10536052]\n"
     ]
    }
   ],
   "source": [
    "print(-np.log(softmax_outputs[range(len(softmax_outputs)), class_targets]))\n"
   ]
  },
  {
   "cell_type": "code",
   "execution_count": 40,
   "id": "0da5562b-f1f0-4633-a483-83cebad95f51",
   "metadata": {},
   "outputs": [
    {
     "data": {
      "text/plain": [
       "(3, 3)"
      ]
     },
     "execution_count": 40,
     "metadata": {},
     "output_type": "execute_result"
    }
   ],
   "source": [
    "softmax_outputs.shape"
   ]
  },
  {
   "cell_type": "code",
   "execution_count": 41,
   "id": "f7efe000-ec47-4a9e-8147-54ec25e0196c",
   "metadata": {},
   "outputs": [
    {
     "data": {
      "text/plain": [
       "array([[0.7 , 0.1 , 0.2 ],\n",
       "       [0.1 , 0.5 , 0.4 ],\n",
       "       [0.02, 0.9 , 0.08]])"
      ]
     },
     "execution_count": 41,
     "metadata": {},
     "output_type": "execute_result"
    }
   ],
   "source": [
    "softmax_outputs"
   ]
  },
  {
   "cell_type": "code",
   "execution_count": 53,
   "id": "ecbb1459-cda2-4956-b5a2-33543a146319",
   "metadata": {},
   "outputs": [
    {
     "data": {
      "text/plain": [
       "array([-0.35667494, -0.69314718, -0.10536052])"
      ]
     },
     "execution_count": 53,
     "metadata": {},
     "output_type": "execute_result"
    }
   ],
   "source": [
    "np.log(softmax_outputs[range(len(softmax_outputs)), class_targets])"
   ]
  },
  {
   "cell_type": "code",
   "execution_count": 55,
   "id": "2142daae-8865-44ff-89b9-c3d400de7378",
   "metadata": {},
   "outputs": [
    {
     "name": "stdout",
     "output_type": "stream",
     "text": [
      "0.38506088005216804\n"
     ]
    }
   ],
   "source": [
    "neg_log = -np.log(softmax_outputs[range(len(softmax_outputs)), class_targets])\n",
    "average_loss = np.mean(neg_log)\n",
    "\n",
    "print(average_loss)"
   ]
  },
  {
   "cell_type": "markdown",
   "id": "a982ac8b",
   "metadata": {},
   "source": [
    "### 5.2 Classes Loss and LossCategoricalCrossentropy"
   ]
  },
  {
   "cell_type": "code",
   "execution_count": 5,
   "id": "806eacdc",
   "metadata": {},
   "outputs": [],
   "source": [
    "import numpy as np"
   ]
  },
  {
   "cell_type": "code",
   "execution_count": 57,
   "id": "f074cf4f",
   "metadata": {},
   "outputs": [],
   "source": [
    "class Loss:\n",
    "    def calculate(self, output, y):\n",
    "        sample_losses = self.forward(output, y)\n",
    "        data_loss = np.mean(sample_losses)\n",
    "        return data_loss"
   ]
  },
  {
   "cell_type": "code",
   "execution_count": 76,
   "id": "ba20ef3a",
   "metadata": {},
   "outputs": [],
   "source": [
    "class LossCategoricalCrossentropy(Loss):\n",
    "    def forward(self, y_pred, y_true):\n",
    "        n_samples = len(y_pred)\n",
    "        y_pred_clipped = np.clip(y_pred, 1e-7, 1-1e-7)\n",
    "        \n",
    "        if len(y_true.shape) == 1:\n",
    "            correct_confidences = y_pred_clipped[range(n_samples), y_true]\n",
    "        elif len(y_true.shape) == 2:\n",
    "            correct_confidences = np.sum(y_pred_clipped*y_true, axis=1)\n",
    "        \n",
    "        negative_log_likelihoods = -np.log(correct_confidences)\n",
    "        return negative_log_likelihoods"
   ]
  },
  {
   "cell_type": "code",
   "execution_count": 77,
   "id": "edb96962-4647-41e6-a3d3-d4a7f2fe827c",
   "metadata": {},
   "outputs": [
    {
     "name": "stdout",
     "output_type": "stream",
     "text": [
      "0.38506088005216804\n"
     ]
    }
   ],
   "source": [
    "loss_function = LossCategoricalCrossentropy()\n",
    "loss = loss_function.calculate(softmax_outputs, class_targets)\n",
    "print(loss)"
   ]
  },
  {
   "cell_type": "markdown",
   "id": "c43b07a7-bbfe-4168-a11e-4bc02b4e03d6",
   "metadata": {},
   "source": [
    "### 5.3 Accuracy"
   ]
  },
  {
   "cell_type": "code",
   "execution_count": 88,
   "id": "3480eda3-8f48-413a-b51d-4bfd91ef7ed9",
   "metadata": {},
   "outputs": [
    {
     "name": "stdout",
     "output_type": "stream",
     "text": [
      "acc: 0.6666666666666666\n"
     ]
    }
   ],
   "source": [
    "import numpy as np\n",
    "\n",
    "softmax_outputs = np.array([[0.7, 0.2, 0.1], [0.5, 0.1, 0.4], [0.02, 0.9, 0.08]])\n",
    "class_targets = np.array([0, 1, 1])\n",
    "\n",
    "predictions = np.argmax(softmax_outputs, axis=1)\n",
    "\n",
    "if len(class_targets.shape) == 2:\n",
    "    class_targets = np.argmax(class_targets, axis=1)\n",
    "\n",
    "accuracy = np.mean(predictions==class_targets)\n",
    "print('acc:', accuracy)"
   ]
  }
 ],
 "metadata": {
  "kernelspec": {
   "display_name": "Python 3 (ipykernel)",
   "language": "python",
   "name": "python3"
  },
  "language_info": {
   "codemirror_mode": {
    "name": "ipython",
    "version": 3
   },
   "file_extension": ".py",
   "mimetype": "text/x-python",
   "name": "python",
   "nbconvert_exporter": "python",
   "pygments_lexer": "ipython3",
   "version": "3.8.5"
  }
 },
 "nbformat": 4,
 "nbformat_minor": 5
}
