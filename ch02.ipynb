{
 "cells": [
  {
   "cell_type": "markdown",
   "id": "6b59a3da-3362-437e-ab43-8fc8ddcee57e",
   "metadata": {},
   "source": [
    "## Neural Networks from Scratch\n",
    "### Chapter 2"
   ]
  },
  {
   "cell_type": "markdown",
   "id": "af0cc1e1-5a2c-41fa-8591-38cd29b687bc",
   "metadata": {},
   "source": [
    "### 2.1 My very first neuron"
   ]
  },
  {
   "cell_type": "code",
   "execution_count": 2,
   "id": "2d3ec0cc-9af3-43e2-86c1-46d2fd374ca6",
   "metadata": {},
   "outputs": [
    {
     "name": "stdout",
     "output_type": "stream",
     "text": [
      "4.8\n"
     ]
    }
   ],
   "source": [
    "inputs = [1.0, 2.0, 3.0, 2.5]\n",
    "weights = [0.2, 0.8, -0.5, 1.0]\n",
    "bias = 2\n",
    "\n",
    "output = sum([inputs[i]*weights[i] for i in range(len(inputs))] + [bias])\n",
    "print(output)"
   ]
  },
  {
   "cell_type": "markdown",
   "id": "bd69ffad-65b4-4d6a-9ca2-3b08505535d2",
   "metadata": {},
   "source": [
    "### 2.2 Layers"
   ]
  },
  {
   "cell_type": "code",
   "execution_count": 4,
   "id": "116b682c-ca51-429b-b8f9-8b89c3815c81",
   "metadata": {},
   "outputs": [
    {
     "name": "stdout",
     "output_type": "stream",
     "text": [
      "[4.8, 1.21, 2.385]\n"
     ]
    }
   ],
   "source": [
    "inputs = [1.0, 2.0, 3.0, 2.5]\n",
    "\n",
    "weights1 = [0.2, 0.8, -0.5, 1.0]\n",
    "weights2 = [0.5, -0.91, 0.26, -0.5]\n",
    "weights3 = [-0.26, -0.27, 0.17, 0.87]\n",
    "\n",
    "bias1 = 2\n",
    "bias2 = 3\n",
    "bias3 = 0.5\n",
    "\n",
    "output1 = sum([inputs[i]*weights1[i] for i in range(len(inputs))] + [bias1])\n",
    "output2 = sum([inputs[i]*weights2[i] for i in range(len(inputs))] + [bias2])\n",
    "output3 = sum([inputs[i]*weights3[i] for i in range(len(inputs))] + [bias3])\n",
    "\n",
    "outputs = [output1, output2, output3]\n",
    "\n",
    "print(outputs)"
   ]
  },
  {
   "cell_type": "markdown",
   "id": "f38b7e63-df5c-42dc-a58e-8550c6ecc912",
   "metadata": {},
   "source": [
    "#### 2.2.1 Using matrices and for loops"
   ]
  },
  {
   "cell_type": "code",
   "execution_count": 5,
   "id": "3a69d927-ba98-44bb-b7d0-b365e737047b",
   "metadata": {},
   "outputs": [
    {
     "name": "stdout",
     "output_type": "stream",
     "text": [
      "[4.8, 1.21, 2.385]\n"
     ]
    }
   ],
   "source": [
    "inputs = [1.0, 2.0, 3.0, 2.5]\n",
    "\n",
    "weights = [[0.2, 0.8, -0.5, 1.0],\n",
    "            [0.5, -0.91, 0.26, -0.5],\n",
    "            [-0.26, -0.27, 0.17, 0.87]]\n",
    "\n",
    "biases = [2, 3, 0.5]\n",
    "outputs = []\n",
    "\n",
    "for neuron_weights, neuron_bias in zip(weights, biases):\n",
    "    neuron_output = sum([inputs[i]*neuron_weights[i] for i in range(len(inputs))] + [neuron_bias])\n",
    "    outputs.append(neuron_output)\n",
    "    \n",
    "print(outputs)"
   ]
  },
  {
   "cell_type": "markdown",
   "id": "a6999aef-a272-49ee-8ed6-8c82ec85eb72",
   "metadata": {},
   "source": [
    "#### 2.2.1 Using numpy"
   ]
  },
  {
   "cell_type": "code",
   "execution_count": 8,
   "id": "c80231e8-9e6b-4f92-b06f-ea82a65e17cd",
   "metadata": {},
   "outputs": [
    {
     "name": "stdout",
     "output_type": "stream",
     "text": [
      "[4.8   1.21  2.385]\n"
     ]
    }
   ],
   "source": [
    "import numpy as np\n",
    "\n",
    "inputs = [1.0, 2.0, 3.0, 2.5]\n",
    "\n",
    "weights = [[0.2, 0.8, -0.5, 1.0],\n",
    "            [0.5, -0.91, 0.26, -0.5],\n",
    "            [-0.26, -0.27, 0.17, 0.87]]\n",
    "\n",
    "biases = [2, 3, 0.5]\n",
    "\n",
    "outputs = np.dot(weights, inputs) + biases\n",
    "    \n",
    "print(outputs)"
   ]
  },
  {
   "cell_type": "markdown",
   "id": "224fa346-f2bd-48cd-afe8-5a808958a396",
   "metadata": {},
   "source": [
    "#### 2.2.1 Using numpy and batches as inputs"
   ]
  },
  {
   "cell_type": "code",
   "execution_count": 9,
   "id": "ab449cd6-8fb7-4ac0-a429-427d2c649a48",
   "metadata": {},
   "outputs": [
    {
     "name": "stdout",
     "output_type": "stream",
     "text": [
      "[[ 4.8    1.21   2.385]\n",
      " [ 8.9   -1.81   0.2  ]\n",
      " [ 1.41   1.051  0.026]]\n"
     ]
    }
   ],
   "source": [
    "import numpy as np\n",
    "\n",
    "inputs = [[1.0, 2.0, 3.0, 2.5],\n",
    "         [2.0, 5.0, -1.0, 2.0],\n",
    "         [-1.5, 2.7, 3.3, -0.8]]\n",
    "\n",
    "weights = [[0.2, 0.8, -0.5, 1.0],\n",
    "            [0.5, -0.91, 0.26, -0.5],\n",
    "            [-0.26, -0.27, 0.17, 0.87]]\n",
    "\n",
    "biases = [2, 3, 0.5]\n",
    "\n",
    "outputs = np.dot(inputs, np.array(weights).T) + biases\n",
    "    \n",
    "print(outputs)"
   ]
  },
  {
   "cell_type": "code",
   "execution_count": null,
   "id": "66419531-3876-4ac6-857a-f26b88a0a376",
   "metadata": {},
   "outputs": [],
   "source": []
  }
 ],
 "metadata": {
  "kernelspec": {
   "display_name": "Python 3 (ipykernel)",
   "language": "python",
   "name": "python3"
  },
  "language_info": {
   "codemirror_mode": {
    "name": "ipython",
    "version": 3
   },
   "file_extension": ".py",
   "mimetype": "text/x-python",
   "name": "python",
   "nbconvert_exporter": "python",
   "pygments_lexer": "ipython3",
   "version": "3.8.5"
  }
 },
 "nbformat": 4,
 "nbformat_minor": 5
}
